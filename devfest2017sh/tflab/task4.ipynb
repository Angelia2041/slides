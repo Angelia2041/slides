{
 "cells": [
  {
   "cell_type": "markdown",
   "metadata": {},
   "source": [
    "# 分布式TensorFlow简介"
   ]
  },
  {
   "cell_type": "markdown",
   "metadata": {},
   "source": [
    "## 起个Cluster\n",
    "\n",
    "看task.py文件，了解ps服务器和worker服务器。\n",
    "\n",
    "进入容器后启动三个进程模仿三个服务器（这里纯粹为了快速演示）\n",
    "\n",
    "```\n",
    "docker exec -it tflab bash\n",
    "    python task.py --job_name=ps --task_index=0\n",
    "docker exec -it tflab bash\n",
    "    python task.py --job_name=worker --task_index=0\n",
    "docker exec -it tflab bash\n",
    "    python task.py --job_name=worker --task_index=1\n",
    "```\n",
    "\n",
    "查看日志文件看看输出是什么\n",
    "\n",
    "## 图并行\n",
    "\n",
    "### 定义个client\n",
    "最简单的model"
   ]
  },
  {
   "cell_type": "code",
   "execution_count": null,
   "metadata": {},
   "outputs": [],
   "source": [
    "import tensorflow as tf\n",
    "import numpy as np\n",
    "\n",
    "cluster_spec = {\n",
    "    \"ps\": [\"localhost:50001\"],\n",
    "    \"worker\": [\"localhost:60001\", \"localhost:60002\"]}\n",
    "graph = tf.Graph()\n",
    "with graph.as_default():\n",
    "    with tf.device(tf.train.replica_device_setter(cluster=cluster_spec)):      \n",
    "        i = tf.placeholder(tf.float32, shape=(None, 1), name=\"input\")\n",
    "        a = tf.Variable(tf.constant(10.0, shape=[1]), name=\"a\")\n",
    "        b = tf.Variable(tf.constant(20.0, shape=[1]), name=\"b\")\n",
    "        node1 = tf.add(i, a, name=\"node1\")\n",
    "        node2 = tf.add(i, b, name=\"node2\")\n",
    "        node3 = tf.add(node1, node2, name=\"node3\")\n",
    "\n",
    "with tf.Session(\"grpc://localhost:60001\",\n",
    "                graph=graph) as sess:\n",
    "    sess.run(tf.global_variables_initializer())\n",
    "    data = np.array([2]).reshape(-1, 1)\n",
    "    output = sess.run(node3, feed_dict={i: data})\n",
    "    print(output)"
   ]
  },
  {
   "cell_type": "markdown",
   "metadata": {},
   "source": [
    "### 思考上面的程序是如何在各个服务器上运行的\n",
    "\n",
    "修改使得图并行"
   ]
  },
  {
   "cell_type": "code",
   "execution_count": null,
   "metadata": {
    "scrolled": true
   },
   "outputs": [],
   "source": [
    "graph2 = tf.Graph()\n",
    "with graph2.as_default():\n",
    "    i = tf.placeholder(tf.float32, shape=(None, 1))\n",
    "    with tf.device(\"/job:ps/task:0\"):\n",
    "        a = tf.Variable(tf.constant(100.0, shape=[1]), name=\"a\")\n",
    "        b = tf.Variable(tf.constant(200.0, shape=[1]), name=\"b\")\n",
    "    with tf.device(\"/job:worker/task:0\"):\n",
    "        node1 = tf.add(i, a, name=\"node1\")\n",
    "    with tf.device(\"/job:worker/task:1\"):\n",
    "        node2 = tf.add(i, b, name=\"node2\")\n",
    "    # Think if we don't specify device, who will handle it?\n",
    "    # Tip: config=tf.ConfigProto(log_device_placement=True)\n",
    "    node3 = tf.add(node1, node2, name=\"node3\")\n",
    "\n",
    "with tf.Session(\"grpc://localhost:60002\", graph=graph2) as sess:\n",
    "    sess.run(tf.global_variables_initializer())\n",
    "    data = np.array([2]).reshape(-1, 1)\n",
    "    node3out = sess.run(node3,\n",
    "                       feed_dict={i: data})\n",
    "    print(node3out)"
   ]
  },
  {
   "cell_type": "markdown",
   "metadata": {},
   "source": [
    "> 请自行设计并完成两种数据并行的实验"
   ]
  },
  {
   "cell_type": "code",
   "execution_count": null,
   "metadata": {},
   "outputs": [],
   "source": []
  }
 ],
 "metadata": {
  "kernelspec": {
   "display_name": "Python 2",
   "language": "python",
   "name": "python2"
  },
  "language_info": {
   "codemirror_mode": {
    "name": "ipython",
    "version": 2
   },
   "file_extension": ".py",
   "mimetype": "text/x-python",
   "name": "python",
   "nbconvert_exporter": "python",
   "pygments_lexer": "ipython2",
   "version": "2.7.12"
  }
 },
 "nbformat": 4,
 "nbformat_minor": 2
}
