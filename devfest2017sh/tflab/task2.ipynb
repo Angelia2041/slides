{
 "cells": [
  {
   "cell_type": "markdown",
   "metadata": {},
   "source": [
    "# 任务2: 最简单的线性回归\n",
    "\n",
    "## 大纲\n",
    "- 任务描述\n",
    "- 生成数据\n",
    "- Keras\n",
    "- Estimator\n",
    "- Low Level API"
   ]
  },
  {
   "cell_type": "markdown",
   "metadata": {},
   "source": [
    "## 任务描述\n",
    "给定一组x和y的样本，他们大体符合y=wx+b。目标是根据给定的x和y样本，求解出w和b。即线性回归。\n",
    "更多详情请参考[wikipedia](https://zh.wikipedia.org/wiki/%E7%B7%9A%E6%80%A7%E5%9B%9E%E6%AD%B8)。\n",
    "\n",
    "## 生成数据\n",
    "通过程序，生成一组x和y，符合y=wx+b+noise。"
   ]
  },
  {
   "cell_type": "code",
   "execution_count": null,
   "metadata": {},
   "outputs": [],
   "source": [
    "import numpy as np\n",
    "import matplotlib.pyplot as plt\n",
    "\n",
    "def generate_data(w, b, num_sample=100, noise_sigma=0.1):\n",
    "    noise = np.random.randn(num_sample) * noise_sigma\n",
    "    x = np.linspace(0, 1, num_sample)\n",
    "    np.random.shuffle(x)\n",
    "    y = w * (x + noise) + b\n",
    "    return x, y\n",
    "\n",
    "x_train, y_train = generate_data(w=-1, b=0)\n",
    "plt.scatter(x_train, y_train)\n",
    "plt.title('Training Data')\n",
    "plt.show()"
   ]
  },
  {
   "cell_type": "markdown",
   "metadata": {},
   "source": [
    "# 回到Slides看loss和optimizer概念"
   ]
  },
  {
   "cell_type": "markdown",
   "metadata": {},
   "source": [
    "# Keras\n",
    "### 定义模型\n",
    "使用Keras来快速求解。\n",
    "- loss 损失函数为mse，即最小均方误差\n",
    "- optimizer 优化器为sgd，即随机梯度下降"
   ]
  },
  {
   "cell_type": "code",
   "execution_count": null,
   "metadata": {},
   "outputs": [],
   "source": [
    "import tensorflow as tf\n",
    "\n",
    "def linear_regression_model():\n",
    "    model = tf.keras.models.Sequential()\n",
    "    model.add(tf.keras.layers.Dense(\n",
    "        input_dim=1,\n",
    "        units=1,\n",
    "        name='dense'))\n",
    "    model.compile(loss='mse', optimizer='sgd')\n",
    "    return model\n",
    "\n",
    "model = linear_regression_model();"
   ]
  },
  {
   "cell_type": "markdown",
   "metadata": {},
   "source": [
    "### 训练 (training)\n",
    "\n",
    "每一小批数据为batch_size个样本，对所有数据进行epochs次遍历。"
   ]
  },
  {
   "cell_type": "code",
   "execution_count": null,
   "metadata": {},
   "outputs": [],
   "source": [
    "model.fit(x_train,\n",
    "          y_train,\n",
    "          batch_size=50, \n",
    "          epochs=1000,\n",
    "          verbose=0)\n",
    "print(\"Done\")"
   ]
  },
  {
   "cell_type": "markdown",
   "metadata": {},
   "source": [
    "### 推断 (inference)\n",
    "用Keras训练出来的模型，进行推理(inference)。推断结果和训练样本放一起展现出来。\n",
    "效果不好的话，调整哪些参数改进。"
   ]
  },
  {
   "cell_type": "code",
   "execution_count": null,
   "metadata": {},
   "outputs": [],
   "source": [
    "x_test = np.linspace(0, 1, 100)\n",
    "np.random.shuffle(x_test)\n",
    "y_test_keras = model.predict(x_test)\n",
    "plt.title(\"Keras\")\n",
    "plt.scatter(x_train, y_train)\n",
    "plt.scatter(x_test, y_test_keras)\n",
    "plt.show()"
   ]
  },
  {
   "cell_type": "markdown",
   "metadata": {},
   "source": [
    "### 查看Keras模型描述\n",
    "- 看有几层\n",
    "- 看每层的输入输出情况\n",
    "- 看有几个参数"
   ]
  },
  {
   "cell_type": "code",
   "execution_count": null,
   "metadata": {},
   "outputs": [],
   "source": [
    "model.summary()"
   ]
  },
  {
   "cell_type": "markdown",
   "metadata": {},
   "source": [
    "## Canned Estimator (开箱即用的模型)\n",
    "\n",
    "因为都封装好了，开箱即用，所以我们不需要定义模型了。\n",
    "### 训练"
   ]
  },
  {
   "cell_type": "code",
   "execution_count": null,
   "metadata": {},
   "outputs": [],
   "source": [
    "# define the feature, here it's x\n",
    "feature_columns = [\n",
    "    tf.feature_column.numeric_column(\"x\", shape=[1])]\n",
    "# define input function\n",
    "input_fn_train = tf.estimator.inputs.numpy_input_fn(\n",
    "    {\"x\": x_train}, y_train, batch_size=50, num_epochs=100, shuffle=False)\n",
    "\n",
    "estimator = tf.estimator.LinearRegressor(\n",
    "    feature_columns=feature_columns,\n",
    "    model_dir='/notebooks/tflab/logs/estimator')\n",
    "estimator = estimator.train(input_fn=input_fn_train)"
   ]
  },
  {
   "cell_type": "markdown",
   "metadata": {},
   "source": [
    "### 推断"
   ]
  },
  {
   "cell_type": "code",
   "execution_count": null,
   "metadata": {},
   "outputs": [],
   "source": [
    "input_fn_test = tf.estimator.inputs.numpy_input_fn(\n",
    "    {\"x\": x_test}, batch_size=50, shuffle=False)\n",
    "y_test_generator = estimator.predict(\n",
    "    input_fn=input_fn_test)\n",
    "# get data from generator as conver to numpy array\n",
    "y_test_estimator = np.array(\n",
    "    [p[\"predictions\"][0] for p in list(y_test_generator)])\n",
    "plt.scatter(x_train, y_train)\n",
    "plt.scatter(x_test, y_test_estimator)\n",
    "plt.title(\"Canned Estimator\")\n",
    "plt.show()"
   ]
  },
  {
   "cell_type": "markdown",
   "metadata": {},
   "source": [
    "### 演示TensorBoard\n",
    "\n",
    "```\n",
    "docker exec -it tflab bash\n",
    "tensorboard --logdir=/notebooks/tflab/logs\n",
    "```"
   ]
  },
  {
   "cell_type": "markdown",
   "metadata": {},
   "source": [
    "## TensorFlow Low Level API\n",
    "使用TensorFlow低层级API来实现线性回归"
   ]
  },
  {
   "cell_type": "code",
   "execution_count": null,
   "metadata": {},
   "outputs": [],
   "source": [
    "llapi_logdir = '/notebooks/tflab/logs/llapi'\n",
    "graph = tf.Graph()\n",
    "with graph.as_default():\n",
    "    # define the input layer (scope)\n",
    "    with tf.name_scope('input'):\n",
    "        input_data = tf.placeholder(tf.float32, shape=(None, 1), name=\"input_data\")\n",
    "\n",
    "    # define model's core part, y=wx+b\n",
    "    with tf.name_scope('model'):\n",
    "        W = tf.Variable(tf.truncated_normal([1,1], stddev=0.1), name=\"W\")\n",
    "        b = tf.Variable(tf.constant(0.1, shape=[1]), name=\"b\")\n",
    "        output_data = tf.add(input_data * W, b, name=\"output_data\")\n",
    "\n",
    "    # define the loss (MSE); use GD as optimizer\n",
    "    with tf.name_scope('train'):\n",
    "        target_op = tf.placeholder(tf.float32, shape=(None, 1), name=\"target_op\")\n",
    "        loss = tf.reduce_mean(tf.square(output_data - target_op), name=\"loss\")\n",
    "        optimizer = tf.train.GradientDescentOptimizer(0.5)\n",
    "        train_op = optimizer.minimize(loss, name=\"train_op\")\n",
    "\n",
    "    # log loss for TensorBoard\n",
    "    tf.summary.scalar('loss', loss)\n",
    "    summary_op = tf.summary.merge_all()"
   ]
  },
  {
   "cell_type": "markdown",
   "metadata": {},
   "source": [
    "### 训练"
   ]
  },
  {
   "cell_type": "code",
   "execution_count": null,
   "metadata": {},
   "outputs": [],
   "source": [
    "# Init\n",
    "session = tf.InteractiveSession(graph=graph)\n",
    "session.run(tf.global_variables_initializer())\n",
    "\n",
    "# Train\n",
    "event_writer = tf.summary.FileWriter(llapi_logdir, session.graph)\n",
    "for step in range(100):\n",
    "    summary, _ = session.run([summary_op, train_op],\n",
    "                             feed_dict={\n",
    "                                 input_data: x_train.reshape(-1, 1),\n",
    "                                 target_op: y_train.reshape(-1, 1)})\n",
    "    # log\n",
    "    event_writer.add_summary(summary, step)\n",
    "event_writer.close()"
   ]
  },
  {
   "cell_type": "markdown",
   "metadata": {},
   "source": [
    "### 推断"
   ]
  },
  {
   "cell_type": "code",
   "execution_count": null,
   "metadata": {},
   "outputs": [],
   "source": [
    "# Inference\n",
    "y_test_llapi = session.run(output_data,\n",
    "                           feed_dict={\n",
    "                               input_data: x_test.reshape(-1, 1)})\n",
    "plt.scatter(x_train, y_train)\n",
    "plt.scatter(x_test, y_test_llapi)\n",
    "plt.title(\"Low Level API\")\n",
    "plt.show()"
   ]
  },
  {
   "cell_type": "markdown",
   "metadata": {},
   "source": [
    "### 备份模型\n",
    "模型的结构描述在[GraphDef](https://github.com/tensorflow/tensorflow/blob/master/tensorflow/core/framework/graph.proto)"
   ]
  },
  {
   "cell_type": "code",
   "execution_count": null,
   "metadata": {},
   "outputs": [],
   "source": [
    "# backup graph and weight\n",
    "import os\n",
    "\n",
    "tf.train.write_graph(session.graph.as_graph_def(),\n",
    "                     llapi_logdir,\n",
    "                     'model.pb',\n",
    "                     False)\n",
    "saver = tf.train.Saver(tf.trainable_variables())\n",
    "saver.save(session,\n",
    "           os.path.join(llapi_logdir, 'weights'))"
   ]
  },
  {
   "cell_type": "code",
   "execution_count": null,
   "metadata": {},
   "outputs": [],
   "source": []
  }
 ],
 "metadata": {
  "kernelspec": {
   "display_name": "Python 2",
   "language": "python",
   "name": "python2"
  },
  "language_info": {
   "codemirror_mode": {
    "name": "ipython",
    "version": 2
   },
   "file_extension": ".py",
   "mimetype": "text/x-python",
   "name": "python",
   "nbconvert_exporter": "python",
   "pygments_lexer": "ipython2",
   "version": "2.7.12"
  }
 },
 "nbformat": 4,
 "nbformat_minor": 2
}
